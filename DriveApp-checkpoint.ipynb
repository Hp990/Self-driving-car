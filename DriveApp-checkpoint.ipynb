{
 "cells": [
  {
   "cell_type": "code",
   "execution_count": null,
   "metadata": {},
   "outputs": [],
   "source": [
    "import numpy as np\n",
    "import cv2\n",
    "import h5py\n",
    "from keras.models import load_model\n",
    "\n",
    "model = load_model('Autopilot.h5')\n",
    "\n",
    "def keras_predict(model, image):\n",
    "    processed = keras_process_image(image)\n",
    "    steering_angle = float(model.predict(processed, batch_size=1))\n",
    "    steering_angle = steering_angle * 100\n",
    "    return steering_angle\n",
    "\n",
    "\n",
    "def keras_process_image(img):\n",
    "    image_x = 40\n",
    "    image_y = 40\n",
    "    img = cv2.resize(img, (image_x, image_y))\n",
    "    img = np.array(img, dtype=np.float32)\n",
    "    img = np.reshape(img, (-1, image_x, image_y, 1))\n",
    "    return img\n",
    "\n",
    "\n",
    "steer = cv2.imread('steering_wheel_image.jpg', 0)\n",
    "rows, cols = steer.shape\n",
    "smoothed_angle = 0\n",
    "\n",
    "cap = cv2.VideoCapture('run.mp4')\n",
    "while (cap.isOpened()):\n",
    "    ret, frame = cap.read()\n",
    "    gray = cv2.resize((cv2.cvtColor(frame, cv2.COLOR_RGB2HSV))[:, :, 1], (40, 40))\n",
    "    steering_angle = keras_predict(model, gray)\n",
    "    print(steering_angle)\n",
    "    cv2.imshow('frame', cv2.resize(frame, (500, 300), interpolation=cv2.INTER_AREA))\n",
    "    smoothed_angle += 0.2 * pow(abs((steering_angle - smoothed_angle)), 2.0 / 3.0) * (\n",
    "        steering_angle - smoothed_angle) / abs(\n",
    "        steering_angle - smoothed_angle)\n",
    "    M = cv2.getRotationMatrix2D((cols / 2, rows / 2), -smoothed_angle, 1)\n",
    "    dst = cv2.warpAffine(steer, M, (cols, rows))\n",
    "    cv2.imshow(\"steering wheel\", dst)\n",
    "\n",
    "    if cv2.waitKey(1) & 0xFF == ord('q'):\n",
    "        break\n",
    "\n",
    "cap.release()\n",
    "cv2.destroyAllWindows()\n"
   ]
  }
 ],
 "metadata": {
  "kernelspec": {
   "display_name": "Python 3",
   "language": "python",
   "name": "python3"
  },
  "language_info": {
   "codemirror_mode": {
    "name": "ipython",
    "version": 3
   },
   "file_extension": ".py",
   "mimetype": "text/x-python",
   "name": "python",
   "nbconvert_exporter": "python",
   "pygments_lexer": "ipython3",
   "version": "3.8.5"
  }
 },
 "nbformat": 4,
 "nbformat_minor": 4
}
